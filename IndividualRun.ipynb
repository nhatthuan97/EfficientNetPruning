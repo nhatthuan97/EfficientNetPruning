{
 "cells": [
  {
   "cell_type": "markdown",
   "id": "2fc6ac30-72dd-46dd-ac16-22f283e7442e",
   "metadata": {},
   "source": [
    "# Some import function and intialization. These include the download of the CIFAR100 dataset"
   ]
  },
  {
   "cell_type": "code",
   "execution_count": 1,
   "id": "31dc5fbb-3179-4256-ad7b-eba3443e81b0",
   "metadata": {},
   "outputs": [
    {
     "name": "stdout",
     "output_type": "stream",
     "text": [
      "Files already downloaded and verified\n",
      "Number of samples: 10000\n"
     ]
    }
   ],
   "source": [
    "import torch\n",
    "import torch.nn as nn\n",
    "import torch.optim as optim\n",
    "from torch.utils.data import DataLoader\n",
    "import torch.nn.functional as F\n",
    "\n",
    "import torchvision\n",
    "import torchvision.datasets as datasets\n",
    "import torchvision.models as models\n",
    "import torchvision.transforms as transforms\n",
    "import torch.nn.utils.prune as prune\n",
    "\n",
    "from torchinfo import summary\n",
    "from tqdm import tqdm\n",
    "import numpy as np\n",
    "import matplotlib.pyplot as plt\n",
    "\n",
    "device = 'cuda' if torch.cuda.is_available() else 'cpu'\n",
    "\n",
    "# Define the transform\n",
    "transform = transforms.Compose([transforms.Resize((224, 224)), transforms.ToTensor(),\n",
    "                                transforms.Normalize(mean=[0.5, 0.5, 0.5], std=[0.5, 0.5, 0.5])])\n",
    "\n",
    "# Load CIFAR100 test dataset\n",
    "test_dataset = datasets.CIFAR100('data_src', train=False, download=True, transform=transform)\n",
    "test_dataloader = DataLoader(test_dataset, batch_size=32, shuffle=False, drop_last=True)\n",
    "print('Number of samples:',len(test_dataset))"
   ]
  },
  {
   "cell_type": "markdown",
   "id": "a92d6f55-c344-4a1f-81c8-e92cc26296cc",
   "metadata": {},
   "source": [
    "# User input to determine the pruning amount. The model was based on EfficientNetB0 and has 0% ,15% or 50% pruning done on the conv2d layer"
   ]
  },
  {
   "cell_type": "code",
   "execution_count": 15,
   "id": "8fa3b7be-0988-4420-81fb-ae9450516d89",
   "metadata": {},
   "outputs": [
    {
     "name": "stdin",
     "output_type": "stream",
     "text": [
      "Please type in the pruning amount:0, 15 or 50: 50\n"
     ]
    }
   ],
   "source": [
    "pruning_amount=int(input('Please type in the pruning amount:0, 15 or 50:').strip())"
   ]
  },
  {
   "cell_type": "markdown",
   "id": "bd222e02-767b-40dc-ae91-e758a81ae38c",
   "metadata": {},
   "source": [
    "# Since the code is based on efficientnet's pruning, we have to reload efficientnet model, pruning from scratch first before we can load in the pretrain model as the pruning introduce new masking parameter"
   ]
  },
  {
   "cell_type": "code",
   "execution_count": 16,
   "id": "32f83f65-5033-41f7-a503-4565a693aba7",
   "metadata": {},
   "outputs": [],
   "source": [
    "# Load the pre-trained EfficientNet B0 model\n",
    "modified_EfficientNetB0 = models.efficientnet_b0(pretrained=True)\n",
    "\n",
    "\n",
    "# Pruning function to prune 50% of connections in the given module\n",
    "def prune_module(module, amount=pruning_amount/100):\n",
    "    for name, module in module.named_modules():\n",
    "        # Prune only Conv2d layers\n",
    "        if isinstance(module, nn.Conv2d):\n",
    "            prune.l1_unstructured(module, name='weight', amount=amount)\n",
    "            \n",
    "if pruning_amount!=0:\n",
    "    # Apply pruning to the entire model\n",
    "    prune_module(modified_EfficientNetB0)\n",
    "\n",
    "# Modify the classifier for CIFAR-100 (which has 100 classes)\n",
    "in_features = modified_EfficientNetB0.classifier[1].in_features\n",
    "\n",
    "# Replace the classifier\n",
    "modified_EfficientNetB0.classifier = nn.Sequential(\n",
    "    nn.Linear(in_features, 100)  # CIFAR-100 has 100 classes\n",
    ")\n",
    "modified_model = modified_EfficientNetB0.to(device)\n",
    "\n"
   ]
  },
  {
   "cell_type": "markdown",
   "id": "40798f32-6e7a-439d-95af-5cab32fb8688",
   "metadata": {},
   "source": [
    "# Loading the pretrain model and create the summary to look at the number of trainable parameter, might need to modify the map_location to ulilized GPU acceleration since this code was designed for CPU based system"
   ]
  },
  {
   "cell_type": "code",
   "execution_count": 17,
   "id": "00454d3b-e13d-437b-a42e-8dc30f944c2d",
   "metadata": {},
   "outputs": [
    {
     "name": "stdout",
     "output_type": "stream",
     "text": [
      "Loaded model from prune50_train.pth\n",
      "=========================================================================================================\n",
      "Layer (type:depth-idx)                                  Output Shape              Param #\n",
      "=========================================================================================================\n",
      "EfficientNet                                            [32, 100]                 --\n",
      "├─Sequential: 1-1                                       [32, 1280, 7, 7]          --\n",
      "│    └─Conv2dNormActivation: 2-1                        [32, 32, 112, 112]        --\n",
      "│    │    └─Conv2d: 3-1                                 [32, 32, 112, 112]        432\n",
      "│    │    └─BatchNorm2d: 3-2                            [32, 32, 112, 112]        64\n",
      "│    │    └─SiLU: 3-3                                   [32, 32, 112, 112]        --\n",
      "│    └─Sequential: 2-2                                  [32, 16, 112, 112]        --\n",
      "│    │    └─MBConv: 3-4                                 [32, 16, 112, 112]        792\n",
      "│    └─Sequential: 2-3                                  [32, 24, 56, 56]          --\n",
      "│    │    └─MBConv: 3-5                                 [32, 24, 56, 56]          3,268\n",
      "│    │    └─MBConv: 3-6                                 [32, 24, 56, 56]          5,742\n",
      "│    └─Sequential: 2-4                                  [32, 40, 28, 28]          --\n",
      "│    │    └─MBConv: 3-7                                 [32, 40, 28, 28]          8,078\n",
      "│    │    └─MBConv: 3-8                                 [32, 40, 28, 28]          16,290\n",
      "│    └─Sequential: 2-5                                  [32, 80, 14, 14]          --\n",
      "│    │    └─MBConv: 3-9                                 [32, 80, 14, 14]          19,250\n",
      "│    │    └─MBConv: 3-10                                [32, 80, 14, 14]          52,740\n",
      "│    │    └─MBConv: 3-11                                [32, 80, 14, 14]          52,740\n",
      "│    └─Sequential: 2-6                                  [32, 112, 14, 14]         --\n",
      "│    │    └─MBConv: 3-12                                [32, 112, 14, 14]         64,324\n",
      "│    │    └─MBConv: 3-13                                [32, 112, 14, 14]         106,092\n",
      "│    │    └─MBConv: 3-14                                [32, 112, 14, 14]         106,092\n",
      "│    └─Sequential: 2-7                                  [32, 192, 7, 7]           --\n",
      "│    │    └─MBConv: 3-15                                [32, 192, 7, 7]           133,132\n",
      "│    │    └─MBConv: 3-16                                [32, 192, 7, 7]           297,072\n",
      "│    │    └─MBConv: 3-17                                [32, 192, 7, 7]           297,072\n",
      "│    │    └─MBConv: 3-18                                [32, 192, 7, 7]           297,072\n",
      "│    └─Sequential: 2-8                                  [32, 320, 7, 7]           --\n",
      "│    │    └─MBConv: 3-19                                [32, 320, 7, 7]           361,840\n",
      "│    └─Conv2dNormActivation: 2-9                        [32, 1280, 7, 7]          --\n",
      "│    │    └─Conv2d: 3-20                                [32, 1280, 7, 7]          204,800\n",
      "│    │    └─BatchNorm2d: 3-21                           [32, 1280, 7, 7]          2,560\n",
      "│    │    └─SiLU: 3-22                                  [32, 1280, 7, 7]          --\n",
      "├─AdaptiveAvgPool2d: 1-2                                [32, 1280, 1, 1]          --\n",
      "├─Sequential: 1-3                                       [32, 100]                 --\n",
      "│    └─Linear: 2-10                                     [32, 100]                 128,100\n",
      "=========================================================================================================\n",
      "Total params: 2,157,552\n",
      "Trainable params: 2,157,552\n",
      "Non-trainable params: 0\n",
      "Total mult-adds (Units.GIGABYTES): 6.16\n",
      "=========================================================================================================\n",
      "Input size (MB): 19.27\n",
      "Forward/backward pass size (MB): 3452.12\n",
      "Params size (MB): 8.63\n",
      "Estimated Total Size (MB): 3480.01\n",
      "=========================================================================================================\n"
     ]
    }
   ],
   "source": [
    "# Load the trained model\n",
    "model_path = \"prune\"+str(pruning_amount)+\"_train.pth\"\n",
    "# Define the device\n",
    "\n",
    "modified_model.load_state_dict(torch.load(model_path, map_location=torch.device('cpu')))\n",
    "modified_model.eval()\n",
    "print(f\"Loaded model from {model_path}\")\n",
    "\n",
    "\n",
    "model_input_size = (32, 3, 224, 224)  # Example input size (batch_size, channels, height, width)\n",
    "\n",
    "# Print the summary\n",
    "model_summary = summary(modified_model, input_size=model_input_size)\n",
    "print(model_summary)\n",
    "\n",
    "\n"
   ]
  },
  {
   "cell_type": "markdown",
   "id": "f9f1b8f5-ccd2-4c28-910b-b4e465e36068",
   "metadata": {},
   "source": [
    "# Training loop"
   ]
  },
  {
   "cell_type": "code",
   "execution_count": 18,
   "id": "dbd39cdd-e677-418d-be93-8e3e043d3b5f",
   "metadata": {},
   "outputs": [
    {
     "name": "stderr",
     "output_type": "stream",
     "text": [
      "Testing Progress: 100%|██████████| 312/312 [03:46<00:00,  1.38it/s]\n"
     ]
    }
   ],
   "source": [
    "# CIFAR100 class names\n",
    "class_names = test_dataset.classes\n",
    "\n",
    "# Initialize arrays to keep track of correct predictions and total samples for each class\n",
    "num_classes = len(class_names)\n",
    "class_correct = np.zeros(num_classes)\n",
    "class_total = np.zeros(num_classes)\n",
    "\n",
    "# Test the model\n",
    "with torch.no_grad():\n",
    "    for data, labels in tqdm(test_dataloader, desc=\"Testing Progress\"):\n",
    "        data, labels = data.to(device), labels.to(device)\n",
    "        outputs = modified_model(data)\n",
    "        _, predicted = torch.max(outputs.data, 1)\n",
    "        \n",
    "        correct = (predicted == labels)\n",
    "        for label, is_correct in zip(labels, correct):\n",
    "            class_correct[label] += is_correct.item()\n",
    "            class_total[label] += 1\n",
    "\n",
    "# Calculate and print accuracy for each class\n",
    "class_accuracies = 100 * class_correct / class_total\n",
    "# Create a list of tuples (class_name, accuracy) and sort it by accuracy\n",
    "acc_list = [(class_names[i], class_accuracies[i]) for i in range(num_classes)]\n",
    "acc_list.sort(key=lambda x: x[1])\n"
   ]
  },
  {
   "cell_type": "markdown",
   "id": "7fc2cfb3-e249-4675-9b1f-b4d8035ee006",
   "metadata": {},
   "source": [
    "# Result for the most and lease accurate classes"
   ]
  },
  {
   "cell_type": "code",
   "execution_count": 19,
   "id": "89442f8f-84bb-4853-939a-6b86f13151b4",
   "metadata": {},
   "outputs": [
    {
     "name": "stdout",
     "output_type": "stream",
     "text": [
      "Top 10 Most Accurate Classes:\n",
      "apple: 98.00%\n",
      "wardrobe: 97.00%\n",
      "motorcycle: 97.00%\n",
      "road: 96.00%\n",
      "chimpanzee: 96.00%\n",
      "skunk: 95.96%\n",
      "tractor: 95.00%\n",
      "sunflower: 95.00%\n",
      "orange: 94.00%\n",
      "tank: 93.00%\n",
      "\n",
      "Top 10 Least Accurate Classes:\n",
      "girl: 49.00%\n",
      "boy: 53.00%\n",
      "seal: 60.00%\n",
      "pine_tree: 61.00%\n",
      "shrew: 61.00%\n",
      "otter: 64.00%\n",
      "bowl: 67.00%\n",
      "willow_tree: 67.68%\n",
      "possum: 68.00%\n",
      "mouse: 68.69%\n"
     ]
    }
   ],
   "source": [
    "\n",
    "# Top 10 most accurate classes\n",
    "print(\"Top 10 Most Accurate Classes:\")\n",
    "for class_name, accuracy in acc_list[-10:][::-1]:\n",
    "    print(f'{class_name}: {accuracy:.2f}%')\n",
    "\n",
    "print(\"\\nTop 10 Least Accurate Classes:\")\n",
    "# Top 10 least accurate classes\n",
    "for class_name, accuracy in acc_list[:10]:\n",
    "    print(f'{class_name}: {accuracy:.2f}%')\n"
   ]
  },
  {
   "cell_type": "code",
   "execution_count": null,
   "id": "be3754e7-d8cb-47aa-9272-afe1d5f7ceba",
   "metadata": {},
   "outputs": [],
   "source": []
  }
 ],
 "metadata": {
  "kernelspec": {
   "display_name": "Python 3 (ipykernel)",
   "language": "python",
   "name": "python3"
  },
  "language_info": {
   "codemirror_mode": {
    "name": "ipython",
    "version": 3
   },
   "file_extension": ".py",
   "mimetype": "text/x-python",
   "name": "python",
   "nbconvert_exporter": "python",
   "pygments_lexer": "ipython3",
   "version": "3.11.5"
  }
 },
 "nbformat": 4,
 "nbformat_minor": 5
}
